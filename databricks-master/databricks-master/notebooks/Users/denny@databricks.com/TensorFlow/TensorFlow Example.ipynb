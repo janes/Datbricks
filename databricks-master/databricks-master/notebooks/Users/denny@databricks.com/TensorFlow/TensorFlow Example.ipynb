{
 "cells": [
  {
   "cell_type": "markdown",
   "metadata": {},
   "source": [
    "## TensorFlow Example"
   ]
  },
  {
   "cell_type": "markdown",
   "metadata": {},
   "source": [
    "### Matrix Multiplication using Constants\n",
    "To better describe tensors and how TensorFlow works, let’s start with a matrix multiplication calculation involving two constants (in this case two matrices).  We will define c1 (1x3 matrix) and c2 (3x1 matrix) using the code below.\n"
   ]
  },
  {
   "cell_type": "code",
   "execution_count": 7,
   "metadata": {
    "collapsed": false
   },
   "outputs": [
    {
     "name": "stdout",
     "output_type": "stream",
     "text": [
      "[[ 2.]]\n"
     ]
    }
   ],
   "source": [
    "# Import TensorFlow\n",
    "import tensorflow as tf\n",
    "\n",
    "\n",
    "# Setup the matrix\n",
    "#   c1: 1x3 matrix\n",
    "#   c2: 3x1 matrix\n",
    "c1 = tf.constant([[3., 2., 1.]])\n",
    "c2 = tf.constant([[-1.], [2.], [1.]])\n",
    "\n",
    "# m3: matrix multiplication (m1 x m3)\n",
    "mp = tf.matmul(c1, c2)\n",
    "\n",
    "# Launch the default graph.\n",
    "s = tf.Session()\n",
    "\n",
    "# The call 'run(product)' thus causes the execution of three ops in the\n",
    "# graph: the two constants and matmul\n",
    "r = s.run(mp)\n",
    "print(r)"
   ]
  },
  {
   "cell_type": "code",
   "execution_count": 8,
   "metadata": {
    "collapsed": true
   },
   "outputs": [],
   "source": [
    "# Close the Session when we're done.\n",
    "s.close()"
   ]
  },
  {
   "cell_type": "markdown",
   "metadata": {},
   "source": [
    "### Matrix Multiplications using Placeholders\n",
    "Let's run the same code as above, but this time let's use placeholders so we can place any size matrix we would like."
   ]
  },
  {
   "cell_type": "code",
   "execution_count": 11,
   "metadata": {
    "collapsed": false
   },
   "outputs": [
    {
     "name": "stdout",
     "output_type": "stream",
     "text": [
      "[array([[ 2.]], dtype=float32)]\n"
     ]
    }
   ],
   "source": [
    "# t1: placeholder tensor\n",
    "# t2: placeholder tensor\n",
    "t1 = tf.placeholder(tf.float32)\n",
    "t2 = tf.placeholder(tf.float32)\n",
    "\n",
    "# t3: matrix multiplication (m1 x m3)\n",
    "tp = tf.matmul(t1, t2)\n",
    "\n",
    "\n",
    "# setup input matrices\n",
    "m1 = [[3., 2., 1.]]\n",
    "m2 = [[-1.], [2.], [1.]]\n",
    "#m2 = [[3.], [2.], [1.]]\n",
    "#m2 = [[-3.], [-2.], [-1.]]\n",
    "\n",
    "with tf.Session() as s:\n",
    "    print(s.run([tp], feed_dict={t1:m1, t2:m2}))"
   ]
  },
  {
   "cell_type": "markdown",
   "metadata": {},
   "source": [
    "We can now use the same matrix multiplication formula (using placeholders) using a different "
   ]
  },
  {
   "cell_type": "code",
   "execution_count": 17,
   "metadata": {
    "collapsed": false
   },
   "outputs": [
    {
     "name": "stdout",
     "output_type": "stream",
     "text": [
      "[array([[-26.]], dtype=float32)]\n"
     ]
    }
   ],
   "source": [
    "# setup input matrices\n",
    "m1 = [[3., 2., 1., 0.]]\n",
    "m2 = [[-5.], [-4.], [-3.], [-2.]]\n",
    "\n",
    "with tf.Session() as s:\n",
    "\tprint(s.run([tp], feed_dict={t1:m1, t2:m2}))"
   ]
  },
  {
   "cell_type": "markdown",
   "metadata": {},
   "source": [
    "### Using `transpose`\n",
    "Update the above version of the code using `transpose` to simplify the matrix creation"
   ]
  },
  {
   "cell_type": "code",
   "execution_count": 34,
   "metadata": {
    "collapsed": false
   },
   "outputs": [
    {
     "name": "stdout",
     "output_type": "stream",
     "text": [
      "[array([[-26.]], dtype=float32)]\n"
     ]
    }
   ],
   "source": [
    "# t1: placeholder tensor\n",
    "# t2: placeholder tensor\n",
    "t1 = tf.placeholder(tf.float32)\n",
    "t2 = tf.placeholder(tf.float32)\n",
    "t2t = tf.transpose(t2)\n",
    "\n",
    "# t3: matrix multiplication (m1 x m3)\n",
    "tp = tf.matmul(t1, t2t)\n",
    "\n",
    "# setup input matrices\n",
    "m1 = [[3., 2., 1., 0.]]\n",
    "m2 = [[-5., -4., -3., -2.]]\n",
    "\n",
    "with tf.Session() as s: \n",
    "\tprint(s.run([tp], feed_dict={t1:m1, t2:m2}))"
   ]
  },
  {
   "cell_type": "markdown",
   "metadata": {},
   "source": [
    "### Using `tf.reduce_sum` and `tf.reduce_min`\n",
    "Example of using `tf.reduce_sum` and `tf.reduce_min`"
   ]
  },
  {
   "cell_type": "code",
   "execution_count": 35,
   "metadata": {
    "collapsed": false
   },
   "outputs": [
    {
     "name": "stdout",
     "output_type": "stream",
     "text": [
      "8\n"
     ]
    }
   ],
   "source": [
    "x = [[3, 2, 1], [-1, 2, 1]]\n",
    "z = tf.reduce_sum(x)\n",
    "s = tf.Session()\n",
    "r = s.run(z)\n",
    "print (r)\n",
    "s.close()"
   ]
  },
  {
   "cell_type": "code",
   "execution_count": 36,
   "metadata": {
    "collapsed": false
   },
   "outputs": [
    {
     "name": "stdout",
     "output_type": "stream",
     "text": [
      "6\n"
     ]
    }
   ],
   "source": [
    "x = [[1, 1, 1], [1, 1, 1]]\n",
    "z = tf.reduce_sum(x)\n",
    "s = tf.Session()\n",
    "r = s.run(z)\n",
    "print (r)\n",
    "s.close()"
   ]
  },
  {
   "cell_type": "code",
   "execution_count": 37,
   "metadata": {
    "collapsed": false
   },
   "outputs": [
    {
     "name": "stdout",
     "output_type": "stream",
     "text": [
      "-1\n"
     ]
    }
   ],
   "source": [
    "x = [[3, 2, 1], [-1, 2, 1]]\n",
    "z = tf.reduce_min(x)\n",
    "s = tf.Session()\n",
    "r = s.run(z)\n",
    "print (r)\n",
    "s.close()"
   ]
  },
  {
   "cell_type": "code",
   "execution_count": null,
   "metadata": {
    "collapsed": true
   },
   "outputs": [],
   "source": []
  }
 ],
 "metadata": {
  "kernelspec": {
   "display_name": "Python 2",
   "language": "python",
   "name": "python2"
  },
  "language_info": {
   "codemirror_mode": {
    "name": "ipython",
    "version": 2
   },
   "file_extension": ".py",
   "mimetype": "text/x-python",
   "name": "python",
   "nbconvert_exporter": "python",
   "pygments_lexer": "ipython2",
   "version": "2.7.11"
  }
 },
 "nbformat": 4,
 "nbformat_minor": 1
}
